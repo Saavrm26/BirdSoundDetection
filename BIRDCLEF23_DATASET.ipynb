{
  "metadata": {
    "kernelspec": {
      "language": "python",
      "display_name": "Python 3",
      "name": "python3"
    },
    "language_info": {
      "name": "python",
      "version": "3.10.13",
      "mimetype": "text/x-python",
      "codemirror_mode": {
        "name": "ipython",
        "version": 3
      },
      "pygments_lexer": "ipython3",
      "nbconvert_exporter": "python",
      "file_extension": ".py"
    },
    "kaggle": {
      "accelerator": "none",
      "dataSources": [
        {
          "sourceId": 44224,
          "databundleVersionId": 5188730,
          "sourceType": "competition"
        }
      ],
      "dockerImageVersionId": 30698,
      "isInternetEnabled": true,
      "language": "python",
      "sourceType": "notebook",
      "isGpuEnabled": false
    },
    "colab": {
      "name": "BIRDCLEF23 DATASET",
      "provenance": []
    }
  },
  "nbformat_minor": 0,
  "nbformat": 4,
  "cells": [
    {
      "source": [
        "\n",
        "# IMPORTANT: RUN THIS CELL IN ORDER TO IMPORT YOUR KAGGLE DATA SOURCES\n",
        "# TO THE CORRECT LOCATION (/kaggle/input) IN YOUR NOTEBOOK,\n",
        "# THEN FEEL FREE TO DELETE THIS CELL.\n",
        "# NOTE: THIS NOTEBOOK ENVIRONMENT DIFFERS FROM KAGGLE'S PYTHON\n",
        "# ENVIRONMENT SO THERE MAY BE MISSING LIBRARIES USED BY YOUR\n",
        "# NOTEBOOK.\n",
        "\n",
        "import os\n",
        "import sys\n",
        "from tempfile import NamedTemporaryFile\n",
        "from urllib.request import urlopen\n",
        "from urllib.parse import unquote, urlparse\n",
        "from urllib.error import HTTPError\n",
        "from zipfile import ZipFile\n",
        "import tarfile\n",
        "import shutil\n",
        "\n",
        "CHUNK_SIZE = 40960\n",
        "DATA_SOURCE_MAPPING = 'birdclef-2023:https%3A%2F%2Fstorage.googleapis.com%2Fkaggle-competitions-data%2Fkaggle-v2%2F44224%2F5188730%2Fbundle%2Farchive.zip%3FX-Goog-Algorithm%3DGOOG4-RSA-SHA256%26X-Goog-Credential%3Dgcp-kaggle-com%2540kaggle-161607.iam.gserviceaccount.com%252F20240517%252Fauto%252Fstorage%252Fgoog4_request%26X-Goog-Date%3D20240517T113450Z%26X-Goog-Expires%3D259200%26X-Goog-SignedHeaders%3Dhost%26X-Goog-Signature%3D8bc6de3b10a5ec78c4baab27d47fe230481f8d5aa790f2586c2b6672fbc99133a3d277ccb62194fa8cb456dffde6a885e67fc1b6321ba0d290a67a795186e2a3e334fd07ad6f773a5c125446803ed3ec736e826859e33d86bf05496901a1e12aaa08ecf07f138fd884b1844481540ccdaf3a4ddc9f31a461a2132ed6926a15528ec95852b4699488d89514fb45093864c2a6f6b55b56b88c909da81b9b1bb999c97aa6cc03064303c33d2a52d9727c955bb93c6b068f9763cd834a1345bf998708f5c4a67a4e1011bd9df1cef7786342e786cb695bfaf226233f77092254db4410059a9b14f59523b19aa3fa470a1723419b4bd0ede098ab5401fe6e3de97876'\n",
        "\n",
        "KAGGLE_INPUT_PATH='/kaggle/input'\n",
        "KAGGLE_WORKING_PATH='/kaggle/working'\n",
        "KAGGLE_SYMLINK='kaggle'\n",
        "\n",
        "!umount /kaggle/input/ 2> /dev/null\n",
        "shutil.rmtree('/kaggle/input', ignore_errors=True)\n",
        "os.makedirs(KAGGLE_INPUT_PATH, 0o777, exist_ok=True)\n",
        "os.makedirs(KAGGLE_WORKING_PATH, 0o777, exist_ok=True)\n",
        "\n",
        "try:\n",
        "  os.symlink(KAGGLE_INPUT_PATH, os.path.join(\"..\", 'input'), target_is_directory=True)\n",
        "except FileExistsError:\n",
        "  pass\n",
        "try:\n",
        "  os.symlink(KAGGLE_WORKING_PATH, os.path.join(\"..\", 'working'), target_is_directory=True)\n",
        "except FileExistsError:\n",
        "  pass\n",
        "\n",
        "for data_source_mapping in DATA_SOURCE_MAPPING.split(','):\n",
        "    directory, download_url_encoded = data_source_mapping.split(':')\n",
        "    download_url = unquote(download_url_encoded)\n",
        "    filename = urlparse(download_url).path\n",
        "    destination_path = os.path.join(KAGGLE_INPUT_PATH, directory)\n",
        "    try:\n",
        "        with urlopen(download_url) as fileres, NamedTemporaryFile() as tfile:\n",
        "            total_length = fileres.headers['content-length']\n",
        "            print(f'Downloading {directory}, {total_length} bytes compressed')\n",
        "            dl = 0\n",
        "            data = fileres.read(CHUNK_SIZE)\n",
        "            while len(data) > 0:\n",
        "                dl += len(data)\n",
        "                tfile.write(data)\n",
        "                done = int(50 * dl / int(total_length))\n",
        "                sys.stdout.write(f\"\\r[{'=' * done}{' ' * (50-done)}] {dl} bytes downloaded\")\n",
        "                sys.stdout.flush()\n",
        "                data = fileres.read(CHUNK_SIZE)\n",
        "            if filename.endswith('.zip'):\n",
        "              with ZipFile(tfile) as zfile:\n",
        "                zfile.extractall(destination_path)\n",
        "            else:\n",
        "              with tarfile.open(tfile.name) as tarfile:\n",
        "                tarfile.extractall(destination_path)\n",
        "            print(f'\\nDownloaded and uncompressed: {directory}')\n",
        "    except HTTPError as e:\n",
        "        print(f'Failed to load (likely expired) {download_url} to path {destination_path}')\n",
        "        continue\n",
        "    except OSError as e:\n",
        "        print(f'Failed to load {download_url} to path {destination_path}')\n",
        "        continue\n",
        "\n",
        "print('Data source import complete.')\n"
      ],
      "metadata": {
        "id": "5GAq2h6ZVWaH"
      },
      "cell_type": "code",
      "outputs": [],
      "execution_count": null
    },
    {
      "cell_type": "code",
      "source": [],
      "metadata": {
        "_uuid": "8f2839f25d086af736a60e9eeb907d3b93b6e0e5",
        "_cell_guid": "b1076dfc-b9ad-4769-8c92-a6c4dae69d19",
        "trusted": true,
        "id": "9cFI2SaEVWaK"
      },
      "execution_count": null,
      "outputs": []
    },
    {
      "cell_type": "code",
      "source": [
        "import os"
      ],
      "metadata": {
        "execution": {
          "iopub.status.busy": "2024-05-14T17:00:08.665378Z",
          "iopub.execute_input": "2024-05-14T17:00:08.665881Z",
          "iopub.status.idle": "2024-05-14T17:00:08.704817Z",
          "shell.execute_reply.started": "2024-05-14T17:00:08.665843Z",
          "shell.execute_reply": "2024-05-14T17:00:08.703571Z"
        },
        "trusted": true,
        "id": "kW_3TwElVWaK"
      },
      "execution_count": null,
      "outputs": []
    },
    {
      "cell_type": "code",
      "source": [
        "import sklearn"
      ],
      "metadata": {
        "execution": {
          "iopub.status.busy": "2024-05-14T17:00:08.710962Z",
          "iopub.execute_input": "2024-05-14T17:00:08.711329Z",
          "iopub.status.idle": "2024-05-14T17:00:09.320816Z",
          "shell.execute_reply.started": "2024-05-14T17:00:08.711299Z",
          "shell.execute_reply": "2024-05-14T17:00:09.319491Z"
        },
        "trusted": true,
        "id": "xBRrKz9hVWaL"
      },
      "execution_count": null,
      "outputs": []
    },
    {
      "cell_type": "code",
      "source": [
        "if (not os.path.exists((\"/kaggle/working/librosa_cache\"))):\n",
        "    os.mkdir(\"/kaggle/working/librosa_cache\")"
      ],
      "metadata": {
        "execution": {
          "iopub.status.busy": "2024-05-14T17:00:09.323007Z",
          "iopub.execute_input": "2024-05-14T17:00:09.323447Z",
          "iopub.status.idle": "2024-05-14T17:00:09.329889Z",
          "shell.execute_reply.started": "2024-05-14T17:00:09.323407Z",
          "shell.execute_reply": "2024-05-14T17:00:09.328608Z"
        },
        "trusted": true,
        "id": "2kKUTnutVWaL"
      },
      "execution_count": null,
      "outputs": []
    },
    {
      "cell_type": "code",
      "source": [
        "!export LIBROSA_CACHE_DIR=/kaggle/working/librosa_cache"
      ],
      "metadata": {
        "execution": {
          "iopub.status.busy": "2024-05-14T17:00:09.331307Z",
          "iopub.execute_input": "2024-05-14T17:00:09.331729Z",
          "iopub.status.idle": "2024-05-14T17:00:10.448555Z",
          "shell.execute_reply.started": "2024-05-14T17:00:09.331676Z",
          "shell.execute_reply": "2024-05-14T17:00:10.44688Z"
        },
        "trusted": true,
        "id": "4aEgIeRNVWaM"
      },
      "execution_count": null,
      "outputs": []
    },
    {
      "cell_type": "code",
      "source": [
        "import librosa\n",
        "import tensorflow as tf"
      ],
      "metadata": {
        "execution": {
          "iopub.status.busy": "2024-05-14T17:00:10.452321Z",
          "iopub.execute_input": "2024-05-14T17:00:10.452841Z",
          "iopub.status.idle": "2024-05-14T17:00:25.523066Z",
          "shell.execute_reply.started": "2024-05-14T17:00:10.452798Z",
          "shell.execute_reply": "2024-05-14T17:00:25.521853Z"
        },
        "trusted": true,
        "id": "u1XVQl7DVWaM",
        "outputId": "fb649378-ad5a-4120-caa7-1ed6f71c4812"
      },
      "execution_count": null,
      "outputs": [
        {
          "name": "stderr",
          "text": "2024-05-14 17:00:12.803895: E external/local_xla/xla/stream_executor/cuda/cuda_dnn.cc:9261] Unable to register cuDNN factory: Attempting to register factory for plugin cuDNN when one has already been registered\n2024-05-14 17:00:12.804040: E external/local_xla/xla/stream_executor/cuda/cuda_fft.cc:607] Unable to register cuFFT factory: Attempting to register factory for plugin cuFFT when one has already been registered\n2024-05-14 17:00:12.987111: E external/local_xla/xla/stream_executor/cuda/cuda_blas.cc:1515] Unable to register cuBLAS factory: Attempting to register factory for plugin cuBLAS when one has already been registered\n",
          "output_type": "stream"
        }
      ]
    },
    {
      "cell_type": "code",
      "source": [
        "import pandas as pd\n",
        "import numpy as np"
      ],
      "metadata": {
        "execution": {
          "iopub.status.busy": "2024-05-14T17:00:25.524379Z",
          "iopub.execute_input": "2024-05-14T17:00:25.525037Z",
          "iopub.status.idle": "2024-05-14T17:00:25.530232Z",
          "shell.execute_reply.started": "2024-05-14T17:00:25.525003Z",
          "shell.execute_reply": "2024-05-14T17:00:25.528944Z"
        },
        "trusted": true,
        "id": "Dk1tvxvZVWaN"
      },
      "execution_count": null,
      "outputs": []
    },
    {
      "cell_type": "code",
      "source": [
        "class CFG:\n",
        "    device = 'CPU'\n",
        "    seed = 42\n",
        "\n",
        "    # Input image size and batch size\n",
        "    img_size = [128, 512]\n",
        "    batch_size = 64\n",
        "    upsample_thr = 30 # min sample of each class (upsample)\n",
        "    cv_filter = True # always keeps low sample data in train\n",
        "\n",
        "    # Audio duration, sample rate, and length\n",
        "    duration = 10 # second\n",
        "    sample_rate = 16000\n",
        "    audio_len = duration*sample_rate\n",
        "\n",
        "    # STFT parameters\n",
        "    nfft = 1024\n",
        "    window = 1024\n",
        "    hop_length = 512\n",
        "    fmin = 20\n",
        "    fmax = 8000\n",
        "    normalize = True\n",
        "    nmels = 216\n",
        "\n",
        "    # Inference batch size, test time augmentation, and drop remainder\n",
        "    infer_bs = 2\n",
        "    tta = 1\n",
        "    drop_remainder = True\n",
        "\n",
        "    # Number of epochs, model name, and number of folds\n",
        "    epochs = 25\n",
        "    model_name = 'EfficientNetB1'\n",
        "    fsr = False # reduce stride of stem block\n",
        "    num_fold = 5\n",
        "\n",
        "    # Selected folds for training and evaluation\n",
        "    selected_folds = [0]\n",
        "\n",
        "    # Pretraining, neck features, and final activation function\n",
        "    pretrain = 'imagenet'\n",
        "    neck_features = 0\n",
        "    final_act = 'softmax'\n",
        "\n",
        "    # Learning rate, optimizer, and scheduler\n",
        "    lr = 1e-3\n",
        "    scheduler = 'cos'\n",
        "    optimizer = 'Adam' # AdamW, Adam\n",
        "\n",
        "    # Loss function and label smoothing\n",
        "    loss = 'CCE' # BCE, CCE\n",
        "    label_smoothing = 0.05 # label smoothing\n",
        "\n",
        "    # Data augmentation parameters\n",
        "    augment=True\n",
        "\n",
        "    # Time Freq masking\n",
        "    freq_mask_prob=0.50\n",
        "    num_freq_masks=1\n",
        "    freq_mask_param=10\n",
        "    time_mask_prob=0.50\n",
        "    num_time_masks=2\n",
        "    time_mask_param=25\n",
        "\n",
        "    # Audio Augmentation Settings\n",
        "    audio_augment_prob = 0.5\n",
        "\n",
        "    mixup_prob = 0.65\n",
        "    mixup_alpha = 0.5\n",
        "\n",
        "    cutmix_prob = 0.65\n",
        "    cutmix_alpha = 2.5\n",
        "\n",
        "    timeshift_prob = 0.0\n",
        "\n",
        "    gn_prob = 0.35\n",
        "\n",
        "    # Class Labels for BirdCLEF 23\n",
        "    class_names = sorted(set(os.listdir('/kaggle/input/birdclef-2023/train_audio/')))\n",
        "    num_classes = len(class_names)\n",
        "    class_labels = list(range(num_classes))\n",
        "    label2name = dict(zip(class_labels, class_names))\n",
        "    name2label = {v:k for k,v in label2name.items()}\n",
        "\n",
        "    # Training Settings\n",
        "    target_col = ['target']\n",
        "    tab_cols = ['filename']\n",
        "    monitor = 'auc'\n",
        "    debug = True\n",
        "    verbose = 0"
      ],
      "metadata": {
        "execution": {
          "iopub.status.busy": "2024-05-14T17:00:25.531926Z",
          "iopub.execute_input": "2024-05-14T17:00:25.532273Z",
          "iopub.status.idle": "2024-05-14T17:00:25.600299Z",
          "shell.execute_reply.started": "2024-05-14T17:00:25.532241Z",
          "shell.execute_reply": "2024-05-14T17:00:25.599081Z"
        },
        "trusted": true,
        "id": "KnayxXYcVWaN"
      },
      "execution_count": null,
      "outputs": []
    },
    {
      "cell_type": "code",
      "source": [
        "tf.keras.utils.set_random_seed(CFG.seed)"
      ],
      "metadata": {
        "execution": {
          "iopub.status.busy": "2024-05-14T17:00:25.601681Z",
          "iopub.execute_input": "2024-05-14T17:00:25.602077Z",
          "iopub.status.idle": "2024-05-14T17:00:25.607631Z",
          "shell.execute_reply.started": "2024-05-14T17:00:25.602047Z",
          "shell.execute_reply": "2024-05-14T17:00:25.606605Z"
        },
        "trusted": true,
        "id": "b0qsXUr9VWaO"
      },
      "execution_count": null,
      "outputs": []
    },
    {
      "cell_type": "code",
      "source": [
        "def load_clef23():\n",
        "    base = \"/kaggle/input/birdclef-2023\"\n",
        "    df_23 = pd.read_csv(f'{base}/train_metadata.csv')\n",
        "    df_23['filepath'] = base + '/train_audio/' + df_23['filename']\n",
        "    df_23['filename'] = df_23['filename'].map(lambda x: x.split('/')[-1])\n",
        "    df_23['dataset'] = 'clef23'\n",
        "    df_23['target'] = df_23.primary_label.map(CFG.name2label).astype('int32')\n",
        "    return df_23"
      ],
      "metadata": {
        "execution": {
          "iopub.status.busy": "2024-05-14T17:00:25.608904Z",
          "iopub.execute_input": "2024-05-14T17:00:25.609199Z",
          "iopub.status.idle": "2024-05-14T17:00:25.625701Z",
          "shell.execute_reply.started": "2024-05-14T17:00:25.609174Z",
          "shell.execute_reply": "2024-05-14T17:00:25.624326Z"
        },
        "trusted": true,
        "id": "4cnlYT8iVWaO"
      },
      "execution_count": null,
      "outputs": []
    },
    {
      "cell_type": "code",
      "source": [
        "def librosa_load(filepath:str, sr):\n",
        "    return librosa.load(filepath, sr=sr)"
      ],
      "metadata": {
        "execution": {
          "iopub.status.busy": "2024-05-14T17:00:25.627001Z",
          "iopub.execute_input": "2024-05-14T17:00:25.62733Z",
          "iopub.status.idle": "2024-05-14T17:00:25.640141Z",
          "shell.execute_reply.started": "2024-05-14T17:00:25.627304Z",
          "shell.execute_reply": "2024-05-14T17:00:25.63861Z"
        },
        "trusted": true,
        "id": "RlxWhrxJVWaO"
      },
      "execution_count": null,
      "outputs": []
    },
    {
      "cell_type": "code",
      "source": [
        "df = load_clef23()"
      ],
      "metadata": {
        "execution": {
          "iopub.status.busy": "2024-05-14T17:00:25.647139Z",
          "iopub.execute_input": "2024-05-14T17:00:25.64754Z",
          "iopub.status.idle": "2024-05-14T17:00:25.827204Z",
          "shell.execute_reply.started": "2024-05-14T17:00:25.647509Z",
          "shell.execute_reply": "2024-05-14T17:00:25.826021Z"
        },
        "trusted": true,
        "id": "mhv00jtPVWaO"
      },
      "execution_count": null,
      "outputs": []
    },
    {
      "cell_type": "code",
      "source": [
        "df.head()"
      ],
      "metadata": {
        "execution": {
          "iopub.status.busy": "2024-05-14T17:00:25.828594Z",
          "iopub.execute_input": "2024-05-14T17:00:25.829039Z",
          "iopub.status.idle": "2024-05-14T17:00:25.857542Z",
          "shell.execute_reply.started": "2024-05-14T17:00:25.829002Z",
          "shell.execute_reply": "2024-05-14T17:00:25.85632Z"
        },
        "trusted": true,
        "id": "HYlypra1VWaO",
        "outputId": "dd114c7b-145a-440a-b02c-84ec539228f2"
      },
      "execution_count": null,
      "outputs": [
        {
          "execution_count": 12,
          "output_type": "execute_result",
          "data": {
            "text/plain": "  primary_label secondary_labels              type  latitude  longitude  \\\n0       abethr1               []          ['song']    4.3906    38.2788   \n1       abethr1               []          ['call']   -2.9524    38.2921   \n2       abethr1               []          ['song']   -2.9524    38.2921   \n3       abethr1               []          ['song']   -2.9524    38.2921   \n4       abethr1               []  ['call', 'song']   -2.9524    38.2921   \n\n      scientific_name               common_name         author  \\\n0  Turdus tephronotus  African Bare-eyed Thrush  Rolf A. de By   \n1  Turdus tephronotus  African Bare-eyed Thrush  James Bradley   \n2  Turdus tephronotus  African Bare-eyed Thrush  James Bradley   \n3  Turdus tephronotus  African Bare-eyed Thrush  James Bradley   \n4  Turdus tephronotus  African Bare-eyed Thrush  James Bradley   \n\n                                             license  rating  \\\n0  Creative Commons Attribution-NonCommercial-Sha...     4.0   \n1  Creative Commons Attribution-NonCommercial-Sha...     3.5   \n2  Creative Commons Attribution-NonCommercial-Sha...     3.5   \n3  Creative Commons Attribution-NonCommercial-Sha...     5.0   \n4  Creative Commons Attribution-NonCommercial-Sha...     4.5   \n\n                                 url      filename  \\\n0  https://www.xeno-canto.org/128013  XC128013.ogg   \n1  https://www.xeno-canto.org/363501  XC363501.ogg   \n2  https://www.xeno-canto.org/363502  XC363502.ogg   \n3  https://www.xeno-canto.org/363503  XC363503.ogg   \n4  https://www.xeno-canto.org/363504  XC363504.ogg   \n\n                                            filepath dataset  target  \n0  /kaggle/input/birdclef-2023/train_audio/abethr...  clef23       0  \n1  /kaggle/input/birdclef-2023/train_audio/abethr...  clef23       0  \n2  /kaggle/input/birdclef-2023/train_audio/abethr...  clef23       0  \n3  /kaggle/input/birdclef-2023/train_audio/abethr...  clef23       0  \n4  /kaggle/input/birdclef-2023/train_audio/abethr...  clef23       0  ",
            "text/html": "<div>\n<style scoped>\n    .dataframe tbody tr th:only-of-type {\n        vertical-align: middle;\n    }\n\n    .dataframe tbody tr th {\n        vertical-align: top;\n    }\n\n    .dataframe thead th {\n        text-align: right;\n    }\n</style>\n<table border=\"1\" class=\"dataframe\">\n  <thead>\n    <tr style=\"text-align: right;\">\n      <th></th>\n      <th>primary_label</th>\n      <th>secondary_labels</th>\n      <th>type</th>\n      <th>latitude</th>\n      <th>longitude</th>\n      <th>scientific_name</th>\n      <th>common_name</th>\n      <th>author</th>\n      <th>license</th>\n      <th>rating</th>\n      <th>url</th>\n      <th>filename</th>\n      <th>filepath</th>\n      <th>dataset</th>\n      <th>target</th>\n    </tr>\n  </thead>\n  <tbody>\n    <tr>\n      <th>0</th>\n      <td>abethr1</td>\n      <td>[]</td>\n      <td>['song']</td>\n      <td>4.3906</td>\n      <td>38.2788</td>\n      <td>Turdus tephronotus</td>\n      <td>African Bare-eyed Thrush</td>\n      <td>Rolf A. de By</td>\n      <td>Creative Commons Attribution-NonCommercial-Sha...</td>\n      <td>4.0</td>\n      <td>https://www.xeno-canto.org/128013</td>\n      <td>XC128013.ogg</td>\n      <td>/kaggle/input/birdclef-2023/train_audio/abethr...</td>\n      <td>clef23</td>\n      <td>0</td>\n    </tr>\n    <tr>\n      <th>1</th>\n      <td>abethr1</td>\n      <td>[]</td>\n      <td>['call']</td>\n      <td>-2.9524</td>\n      <td>38.2921</td>\n      <td>Turdus tephronotus</td>\n      <td>African Bare-eyed Thrush</td>\n      <td>James Bradley</td>\n      <td>Creative Commons Attribution-NonCommercial-Sha...</td>\n      <td>3.5</td>\n      <td>https://www.xeno-canto.org/363501</td>\n      <td>XC363501.ogg</td>\n      <td>/kaggle/input/birdclef-2023/train_audio/abethr...</td>\n      <td>clef23</td>\n      <td>0</td>\n    </tr>\n    <tr>\n      <th>2</th>\n      <td>abethr1</td>\n      <td>[]</td>\n      <td>['song']</td>\n      <td>-2.9524</td>\n      <td>38.2921</td>\n      <td>Turdus tephronotus</td>\n      <td>African Bare-eyed Thrush</td>\n      <td>James Bradley</td>\n      <td>Creative Commons Attribution-NonCommercial-Sha...</td>\n      <td>3.5</td>\n      <td>https://www.xeno-canto.org/363502</td>\n      <td>XC363502.ogg</td>\n      <td>/kaggle/input/birdclef-2023/train_audio/abethr...</td>\n      <td>clef23</td>\n      <td>0</td>\n    </tr>\n    <tr>\n      <th>3</th>\n      <td>abethr1</td>\n      <td>[]</td>\n      <td>['song']</td>\n      <td>-2.9524</td>\n      <td>38.2921</td>\n      <td>Turdus tephronotus</td>\n      <td>African Bare-eyed Thrush</td>\n      <td>James Bradley</td>\n      <td>Creative Commons Attribution-NonCommercial-Sha...</td>\n      <td>5.0</td>\n      <td>https://www.xeno-canto.org/363503</td>\n      <td>XC363503.ogg</td>\n      <td>/kaggle/input/birdclef-2023/train_audio/abethr...</td>\n      <td>clef23</td>\n      <td>0</td>\n    </tr>\n    <tr>\n      <th>4</th>\n      <td>abethr1</td>\n      <td>[]</td>\n      <td>['call', 'song']</td>\n      <td>-2.9524</td>\n      <td>38.2921</td>\n      <td>Turdus tephronotus</td>\n      <td>African Bare-eyed Thrush</td>\n      <td>James Bradley</td>\n      <td>Creative Commons Attribution-NonCommercial-Sha...</td>\n      <td>4.5</td>\n      <td>https://www.xeno-canto.org/363504</td>\n      <td>XC363504.ogg</td>\n      <td>/kaggle/input/birdclef-2023/train_audio/abethr...</td>\n      <td>clef23</td>\n      <td>0</td>\n    </tr>\n  </tbody>\n</table>\n</div>"
          },
          "metadata": {}
        }
      ]
    },
    {
      "cell_type": "code",
      "source": [
        "def librosa_load(filepath:str, sr):\n",
        "    return librosa.load(filepath, sr=sr)"
      ],
      "metadata": {
        "execution": {
          "iopub.status.busy": "2024-05-14T17:00:25.858859Z",
          "iopub.execute_input": "2024-05-14T17:00:25.859175Z",
          "iopub.status.idle": "2024-05-14T17:00:25.864387Z",
          "shell.execute_reply.started": "2024-05-14T17:00:25.859149Z",
          "shell.execute_reply": "2024-05-14T17:00:25.863123Z"
        },
        "trusted": true,
        "id": "wpmAuj5eVWaP"
      },
      "execution_count": null,
      "outputs": []
    },
    {
      "cell_type": "code",
      "source": [
        "def upsample_data(df, thr=20):\n",
        "    # get the class distribution\n",
        "    class_dist = df['primary_label'].value_counts()\n",
        "\n",
        "    # identify the classes that have less than the threshold number of samples\n",
        "    down_classes = class_dist[class_dist < thr].index.tolist()\n",
        "\n",
        "    # create an empty list to store the upsampled dataframes\n",
        "    up_dfs = []\n",
        "\n",
        "    # loop through the undersampled classes and upsample them\n",
        "    for c in down_classes:\n",
        "        # get the dataframe for the current class\n",
        "        class_df = df.query(\"primary_label==@c\")\n",
        "        # find number of samples to add\n",
        "        num_up = thr - class_df.shape[0]\n",
        "        # upsample the dataframe\n",
        "        class_df = class_df.sample(n=num_up, replace=True, random_state=CFG.seed)\n",
        "        # append the upsampled dataframe to the list\n",
        "        up_dfs.append(class_df)\n",
        "\n",
        "    # concatenate the upsampled dataframes and the original dataframe\n",
        "    up_df = pd.concat([df] + up_dfs, axis=0, ignore_index=True)\n",
        "\n",
        "    return up_df"
      ],
      "metadata": {
        "execution": {
          "iopub.status.busy": "2024-05-14T17:00:25.866334Z",
          "iopub.execute_input": "2024-05-14T17:00:25.866703Z",
          "iopub.status.idle": "2024-05-14T17:00:25.877167Z",
          "shell.execute_reply.started": "2024-05-14T17:00:25.866675Z",
          "shell.execute_reply": "2024-05-14T17:00:25.876Z"
        },
        "trusted": true,
        "id": "EPotBrgIVWaP"
      },
      "execution_count": null,
      "outputs": []
    },
    {
      "cell_type": "code",
      "source": [
        "df.shape"
      ],
      "metadata": {
        "execution": {
          "iopub.status.busy": "2024-05-14T17:00:25.878465Z",
          "iopub.execute_input": "2024-05-14T17:00:25.878827Z",
          "iopub.status.idle": "2024-05-14T17:00:25.899051Z",
          "shell.execute_reply.started": "2024-05-14T17:00:25.878799Z",
          "shell.execute_reply": "2024-05-14T17:00:25.897796Z"
        },
        "trusted": true,
        "id": "WWjwfyXQVWaP",
        "outputId": "4fdb0a51-2b80-4a85-a4ec-563c06711cad"
      },
      "execution_count": null,
      "outputs": [
        {
          "execution_count": 15,
          "output_type": "execute_result",
          "data": {
            "text/plain": "(16941, 15)"
          },
          "metadata": {}
        }
      ]
    },
    {
      "cell_type": "code",
      "source": [
        "df = upsample_data(df)"
      ],
      "metadata": {
        "execution": {
          "iopub.status.busy": "2024-05-14T17:00:25.900567Z",
          "iopub.execute_input": "2024-05-14T17:00:25.901575Z",
          "iopub.status.idle": "2024-05-14T17:00:26.538628Z",
          "shell.execute_reply.started": "2024-05-14T17:00:25.901532Z",
          "shell.execute_reply": "2024-05-14T17:00:26.537307Z"
        },
        "trusted": true,
        "id": "Odagc8FvVWaP"
      },
      "execution_count": null,
      "outputs": []
    },
    {
      "cell_type": "code",
      "source": [
        "df.shape"
      ],
      "metadata": {
        "execution": {
          "iopub.status.busy": "2024-05-14T17:00:26.540156Z",
          "iopub.execute_input": "2024-05-14T17:00:26.540506Z",
          "iopub.status.idle": "2024-05-14T17:00:26.547597Z",
          "shell.execute_reply.started": "2024-05-14T17:00:26.540466Z",
          "shell.execute_reply": "2024-05-14T17:00:26.546469Z"
        },
        "trusted": true,
        "id": "2YWfRGRjVWaP",
        "outputId": "080dfacc-4ba0-4394-bf5e-f6187d4be213"
      },
      "execution_count": null,
      "outputs": [
        {
          "execution_count": 17,
          "output_type": "execute_result",
          "data": {
            "text/plain": "(17861, 15)"
          },
          "metadata": {}
        }
      ]
    },
    {
      "cell_type": "code",
      "source": [
        "import shutil"
      ],
      "metadata": {
        "execution": {
          "iopub.status.busy": "2024-05-14T17:00:26.549211Z",
          "iopub.execute_input": "2024-05-14T17:00:26.54969Z",
          "iopub.status.idle": "2024-05-14T17:00:26.561023Z",
          "shell.execute_reply.started": "2024-05-14T17:00:26.549653Z",
          "shell.execute_reply": "2024-05-14T17:00:26.5599Z"
        },
        "trusted": true,
        "id": "zYQX_YzzVWaP"
      },
      "execution_count": null,
      "outputs": []
    },
    {
      "cell_type": "code",
      "source": [
        "if (os.path.exists((\"/kaggle/working/train\"))):\n",
        "    shutil.rmtree(\"/kaggle/working/train\")\n",
        "if (os.path.exists((\"/kaggle/working/test\"))):\n",
        "    shutil.rmtree(\"/kaggle/working/test\")\n",
        "if (os.path.exists((\"/kaggle/working/val\"))):\n",
        "    shutil.rmtree(\"/kaggle/working/val\")"
      ],
      "metadata": {
        "execution": {
          "iopub.status.busy": "2024-05-14T17:00:26.562382Z",
          "iopub.execute_input": "2024-05-14T17:00:26.562773Z",
          "iopub.status.idle": "2024-05-14T17:00:26.574956Z",
          "shell.execute_reply.started": "2024-05-14T17:00:26.562737Z",
          "shell.execute_reply": "2024-05-14T17:00:26.5738Z"
        },
        "trusted": true,
        "id": "IPdgpvj_VWaP"
      },
      "execution_count": null,
      "outputs": []
    },
    {
      "cell_type": "code",
      "source": [
        "os.makedirs(\"train\", exist_ok=True)\n",
        "os.makedirs(\"val\", exist_ok=True)\n",
        "os.makedirs(\"test\", exist_ok=True)\n"
      ],
      "metadata": {
        "execution": {
          "iopub.status.busy": "2024-05-14T17:00:26.576408Z",
          "iopub.execute_input": "2024-05-14T17:00:26.576792Z",
          "iopub.status.idle": "2024-05-14T17:00:26.589926Z",
          "shell.execute_reply.started": "2024-05-14T17:00:26.576763Z",
          "shell.execute_reply": "2024-05-14T17:00:26.588674Z"
        },
        "trusted": true,
        "id": "2cO4VMGFVWaQ"
      },
      "execution_count": null,
      "outputs": []
    },
    {
      "cell_type": "code",
      "source": [
        "from sklearn.model_selection import train_test_split"
      ],
      "metadata": {
        "execution": {
          "iopub.status.busy": "2024-05-14T17:00:26.591447Z",
          "iopub.execute_input": "2024-05-14T17:00:26.592054Z",
          "iopub.status.idle": "2024-05-14T17:00:26.740932Z",
          "shell.execute_reply.started": "2024-05-14T17:00:26.592014Z",
          "shell.execute_reply": "2024-05-14T17:00:26.739779Z"
        },
        "trusted": true,
        "id": "5V-KnXvnVWaR"
      },
      "execution_count": null,
      "outputs": []
    },
    {
      "cell_type": "code",
      "source": [
        "audio = df['filepath']\n",
        "labels = df['primary_label']"
      ],
      "metadata": {
        "execution": {
          "iopub.status.busy": "2024-05-14T17:00:26.742584Z",
          "iopub.execute_input": "2024-05-14T17:00:26.743368Z",
          "iopub.status.idle": "2024-05-14T17:00:26.749056Z",
          "shell.execute_reply.started": "2024-05-14T17:00:26.743328Z",
          "shell.execute_reply": "2024-05-14T17:00:26.747868Z"
        },
        "trusted": true,
        "id": "XA9vkdrcVWaR"
      },
      "execution_count": null,
      "outputs": []
    },
    {
      "cell_type": "code",
      "source": [
        "train_audios, test_val_audios, train_labels, test_val_labels = train_test_split(\n",
        "    audio, labels, test_size=0.3, stratify=labels, random_state=42\n",
        ")\n",
        "\n",
        "# Further split test_val into test and validation sets (adjust ratio as needed)\n",
        "test_audios, val_audios, test_labels, val_labels = train_test_split(\n",
        "    test_val_audios, test_val_labels, test_size=0.15, stratify=test_val_labels, random_state=42\n",
        ")"
      ],
      "metadata": {
        "execution": {
          "iopub.status.busy": "2024-05-14T17:00:26.750628Z",
          "iopub.execute_input": "2024-05-14T17:00:26.751087Z",
          "iopub.status.idle": "2024-05-14T17:00:26.815851Z",
          "shell.execute_reply.started": "2024-05-14T17:00:26.751047Z",
          "shell.execute_reply": "2024-05-14T17:00:26.814622Z"
        },
        "trusted": true,
        "id": "ZU52lRmaVWaR"
      },
      "execution_count": null,
      "outputs": []
    },
    {
      "cell_type": "code",
      "source": [
        "np.unique(train_labels).shape,np.unique(test_labels).shape, np.unique(val_labels).shape"
      ],
      "metadata": {
        "execution": {
          "iopub.status.busy": "2024-05-14T17:00:26.817482Z",
          "iopub.execute_input": "2024-05-14T17:00:26.817858Z",
          "iopub.status.idle": "2024-05-14T17:00:26.844827Z",
          "shell.execute_reply.started": "2024-05-14T17:00:26.817826Z",
          "shell.execute_reply": "2024-05-14T17:00:26.843664Z"
        },
        "trusted": true,
        "id": "lb4sB3UHVWaS",
        "outputId": "4c0f5606-bf58-4539-edcb-6b67bbc9577d"
      },
      "execution_count": null,
      "outputs": [
        {
          "execution_count": 24,
          "output_type": "execute_result",
          "data": {
            "text/plain": "((264,), (264,), (264,))"
          },
          "metadata": {}
        }
      ]
    },
    {
      "cell_type": "code",
      "source": [
        "def get_melspectrogram(audio, sr):\n",
        "    spec = librosa.feature.melspectrogram(y=audio, sr=CFG.sample_rate,\n",
        "                                       n_mels=CFG.nmels,\n",
        "                                       n_fft=CFG.nfft,\n",
        "                                       hop_length=CFG.hop_length,\n",
        "                                       fmax=CFG.fmax,\n",
        "                                       fmin=CFG.fmin,\n",
        "                                       )\n",
        "    spec = librosa.power_to_db(spec, ref=np.max)\n",
        "    normalised_db = sklearn.preprocessing.minmax_scale(spec)\n",
        "    return normalised_db"
      ],
      "metadata": {
        "execution": {
          "iopub.status.busy": "2024-05-14T17:00:26.846256Z",
          "iopub.execute_input": "2024-05-14T17:00:26.846692Z",
          "iopub.status.idle": "2024-05-14T17:00:26.858289Z",
          "shell.execute_reply.started": "2024-05-14T17:00:26.84666Z",
          "shell.execute_reply": "2024-05-14T17:00:26.857101Z"
        },
        "trusted": true,
        "id": "uj0vYntBVWaS"
      },
      "execution_count": null,
      "outputs": []
    },
    {
      "cell_type": "code",
      "source": [
        "from multiprocessing import Pool\n",
        "import time\n",
        "from PIL import Image"
      ],
      "metadata": {
        "execution": {
          "iopub.status.busy": "2024-05-14T17:00:26.859598Z",
          "iopub.execute_input": "2024-05-14T17:00:26.859994Z",
          "iopub.status.idle": "2024-05-14T17:00:26.880695Z",
          "shell.execute_reply.started": "2024-05-14T17:00:26.859963Z",
          "shell.execute_reply": "2024-05-14T17:00:26.879544Z"
        },
        "trusted": true,
        "id": "lgFbQO1JVWaS"
      },
      "execution_count": null,
      "outputs": []
    },
    {
      "cell_type": "code",
      "source": [
        "audio, sr = librosa_load(df.iloc[0].filepath, sr=CFG.sample_rate)"
      ],
      "metadata": {
        "execution": {
          "iopub.status.busy": "2024-05-14T17:00:26.882281Z",
          "iopub.execute_input": "2024-05-14T17:00:26.882662Z",
          "iopub.status.idle": "2024-05-14T17:00:40.51385Z",
          "shell.execute_reply.started": "2024-05-14T17:00:26.882631Z",
          "shell.execute_reply": "2024-05-14T17:00:40.512728Z"
        },
        "trusted": true,
        "id": "wC3rdAlEVWaS"
      },
      "execution_count": null,
      "outputs": []
    },
    {
      "cell_type": "code",
      "source": [
        "spec = get_melspectrogram(audio, sr)"
      ],
      "metadata": {
        "execution": {
          "iopub.status.busy": "2024-05-14T17:00:40.515347Z",
          "iopub.execute_input": "2024-05-14T17:00:40.516214Z",
          "iopub.status.idle": "2024-05-14T17:00:42.004454Z",
          "shell.execute_reply.started": "2024-05-14T17:00:40.516169Z",
          "shell.execute_reply": "2024-05-14T17:00:42.002675Z"
        },
        "trusted": true,
        "id": "Qs4ZfwDBVWaS"
      },
      "execution_count": null,
      "outputs": []
    },
    {
      "cell_type": "code",
      "source": [
        "db_array = (np.asarray(spec)*255).astype(np.uint8)\n",
        "db_image =  Image.fromarray(np.array([db_array, db_array, db_array]).T)"
      ],
      "metadata": {
        "execution": {
          "iopub.status.busy": "2024-05-14T17:00:42.013501Z",
          "iopub.execute_input": "2024-05-14T17:00:42.014653Z",
          "iopub.status.idle": "2024-05-14T17:00:42.039323Z",
          "shell.execute_reply.started": "2024-05-14T17:00:42.014609Z",
          "shell.execute_reply": "2024-05-14T17:00:42.037729Z"
        },
        "trusted": true,
        "id": "y77v3C9AVWaS"
      },
      "execution_count": null,
      "outputs": []
    },
    {
      "cell_type": "code",
      "source": [],
      "metadata": {
        "trusted": true,
        "id": "xpRhieOqVWaS"
      },
      "execution_count": null,
      "outputs": []
    },
    {
      "cell_type": "code",
      "source": [
        "import matplotlib.pyplot as plt\n",
        "\n",
        "def display_image(image_array):\n",
        "    plt.imshow(image_array)\n",
        "    plt.axis('off')  # Turn off axis\n",
        "    plt.show()"
      ],
      "metadata": {
        "execution": {
          "iopub.status.busy": "2024-05-14T17:00:42.041428Z",
          "iopub.execute_input": "2024-05-14T17:00:42.042302Z",
          "iopub.status.idle": "2024-05-14T17:00:42.048563Z",
          "shell.execute_reply.started": "2024-05-14T17:00:42.04226Z",
          "shell.execute_reply": "2024-05-14T17:00:42.047298Z"
        },
        "trusted": true,
        "id": "4xkKxbj4VWaS"
      },
      "execution_count": null,
      "outputs": []
    },
    {
      "cell_type": "code",
      "source": [
        "display_image(db_image)"
      ],
      "metadata": {
        "execution": {
          "iopub.status.busy": "2024-05-14T17:00:42.050687Z",
          "iopub.execute_input": "2024-05-14T17:00:42.051539Z",
          "iopub.status.idle": "2024-05-14T17:00:42.236877Z",
          "shell.execute_reply.started": "2024-05-14T17:00:42.051499Z",
          "shell.execute_reply": "2024-05-14T17:00:42.235181Z"
        },
        "trusted": true,
        "id": "Qeunr_HeVWaS",
        "outputId": "68a3b94e-0098-430d-e4ce-01f3dee90d5d"
      },
      "execution_count": null,
      "outputs": [
        {
          "output_type": "display_data",
          "data": {
            "text/plain": "<Figure size 640x480 with 1 Axes>",
            "image/png": "[encoded data removed]"
          },
          "metadata": {}
        }
      ]
    },
    {
      "cell_type": "code",
      "source": [
        "def get_chunk(data, num_chunks):\n",
        "    audio, labels = data\n",
        "    chunk_size = len(audio) // num_chunks\n",
        "    if num_chunks > len(data):\n",
        "        yield (audio, labels)\n",
        "    else:\n",
        "        for i in range(0, len(audio), chunk_size):\n",
        "            chunk = (audio[i : i + chunk_size], labels[i : i + chunk_size])\n",
        "            yield chunk"
      ],
      "metadata": {
        "execution": {
          "iopub.status.busy": "2024-05-14T17:42:59.548849Z",
          "iopub.execute_input": "2024-05-14T17:42:59.551041Z",
          "iopub.status.idle": "2024-05-14T17:42:59.563649Z",
          "shell.execute_reply.started": "2024-05-14T17:42:59.550983Z",
          "shell.execute_reply": "2024-05-14T17:42:59.561207Z"
        },
        "trusted": true,
        "id": "tEqYSgopVWaT"
      },
      "execution_count": null,
      "outputs": []
    },
    {
      "cell_type": "code",
      "source": [
        "folder = \"train\"\n",
        "label = df.iloc[0].primary_label\n",
        "path = df.iloc[0].filepath\n",
        "filename = path.split('/')[-1]\n",
        "filename = filename.split('.')[0]\n",
        "filename += \".tif\"\n",
        "save_path = f\"/kaggle/working/{folder}/{label}/{filename}\"\n",
        "print(save_path)"
      ],
      "metadata": {
        "execution": {
          "iopub.status.busy": "2024-05-14T17:43:02.913283Z",
          "iopub.execute_input": "2024-05-14T17:43:02.915703Z",
          "iopub.status.idle": "2024-05-14T17:43:02.930979Z",
          "shell.execute_reply.started": "2024-05-14T17:43:02.915636Z",
          "shell.execute_reply": "2024-05-14T17:43:02.928724Z"
        },
        "trusted": true,
        "id": "aooqTUrhVWaT",
        "outputId": "619147e7-4e04-4b39-ee06-577e36b5682b"
      },
      "execution_count": null,
      "outputs": [
        {
          "name": "stdout",
          "text": "/kaggle/working/train/abethr1/XC128013.tif\n",
          "output_type": "stream"
        }
      ]
    },
    {
      "cell_type": "code",
      "source": [
        "def f(data):\n",
        "    tmp, folder = data\n",
        "    paths, labels = tmp\n",
        "    x = len(paths)\n",
        "    for i in range(x):\n",
        "        path = paths.iloc[i]\n",
        "        label = labels.iloc[i]\n",
        "        audio, sr = librosa_load(path, 16000)\n",
        "        spec = get_melspectrogram(audio, sr)\n",
        "        filename = path.split('/')[-1]\n",
        "        filename = filename.split('.')[0]\n",
        "        filename += \".tif\"\n",
        "        savedir = f\"/kaggle/working/{folder}/{label}\"\n",
        "        if (not os.path.exists(savedir)):\n",
        "            os.makedirs(savedir, exist_ok=True)\n",
        "        save_path = f\"/kaggle/working/{folder}/{label}/{filename}\"\n",
        "        db_array = (np.asarray(spec)*255).astype(np.uint8)\n",
        "        db_image =  Image.fromarray(np.array([db_array, db_array, db_array]).T)\n",
        "        db_image.save(save_path)\n",
        ""
      ],
      "metadata": {
        "execution": {
          "iopub.status.busy": "2024-05-14T17:43:03.411646Z",
          "iopub.execute_input": "2024-05-14T17:43:03.413884Z",
          "iopub.status.idle": "2024-05-14T17:43:03.42982Z",
          "shell.execute_reply.started": "2024-05-14T17:43:03.413833Z",
          "shell.execute_reply": "2024-05-14T17:43:03.426429Z"
        },
        "trusted": true,
        "id": "JapRIeirVWaT"
      },
      "execution_count": null,
      "outputs": []
    },
    {
      "cell_type": "code",
      "source": [
        "def process_chunk(data, folder):\n",
        "    chunks = [(data_subarray, folder) for data_subarray in get_chunk(data, 40)]\n",
        "    with Pool(4) as p:\n",
        "        p.map(f, chunks)"
      ],
      "metadata": {
        "execution": {
          "iopub.status.busy": "2024-05-14T17:43:04.15635Z",
          "iopub.execute_input": "2024-05-14T17:43:04.15698Z",
          "iopub.status.idle": "2024-05-14T17:43:04.165199Z",
          "shell.execute_reply.started": "2024-05-14T17:43:04.156939Z",
          "shell.execute_reply": "2024-05-14T17:43:04.163469Z"
        },
        "trusted": true,
        "id": "1r0Jm9pcVWaT"
      },
      "execution_count": null,
      "outputs": []
    },
    {
      "cell_type": "code",
      "source": [
        "outer_chunks = 20\n",
        "for i, chunk in enumerate(get_chunk((train_audios, train_labels), outer_chunks)):\n",
        "    print(\"processing\", i)\n",
        "    process_chunk(chunk, \"train\")"
      ],
      "metadata": {
        "execution": {
          "iopub.status.busy": "2024-05-14T17:15:25.778853Z",
          "iopub.execute_input": "2024-05-14T17:15:25.779598Z",
          "iopub.status.idle": "2024-05-14T17:34:49.994506Z",
          "shell.execute_reply.started": "2024-05-14T17:15:25.779564Z",
          "shell.execute_reply": "2024-05-14T17:34:49.992317Z"
        },
        "trusted": true,
        "id": "Al39Lum0VWaT",
        "outputId": "3721fca8-4ef2-4694-e7b5-9c99622bff1e"
      },
      "execution_count": null,
      "outputs": [
        {
          "name": "stdout",
          "text": "processing 0\n",
          "output_type": "stream"
        },
        {
          "name": "stderr",
          "text": "/opt/conda/lib/python3.10/multiprocessing/popen_fork.py:66: RuntimeWarning: os.fork() was called. os.fork() is incompatible with multithreaded code, and JAX is multithreaded, so this will likely lead to a deadlock.\n  self.pid = os.fork()\n/opt/conda/lib/python3.10/multiprocessing/popen_fork.py:66: RuntimeWarning: os.fork() was called. os.fork() is incompatible with multithreaded code, and JAX is multithreaded, so this will likely lead to a deadlock.\n  self.pid = os.fork()\n",
          "output_type": "stream"
        },
        {
          "name": "stdout",
          "text": "processing 1\nprocessing 2\nprocessing 3\nprocessing 4\nprocessing 5\nprocessing 6\nprocessing 7\nprocessing 8\nprocessing 9\nprocessing 10\nprocessing 11\nprocessing 12\nprocessing 13\nprocessing 14\nprocessing 15\nprocessing 16\nprocessing 17\nprocessing 18\nprocessing 19\nprocessing 20\n",
          "output_type": "stream"
        },
        {
          "traceback": [
            "\u001b[0;31m---------------------------------------------------------------------------\u001b[0m",
            "\u001b[0;31mValueError\u001b[0m                                Traceback (most recent call last)",
            "Cell \u001b[0;32mIn[36], line 4\u001b[0m\n\u001b[1;32m      2\u001b[0m \u001b[38;5;28;01mfor\u001b[39;00m i, chunk \u001b[38;5;129;01min\u001b[39;00m \u001b[38;5;28menumerate\u001b[39m(get_chunk((train_audios, train_labels), outer_chunks)):\n\u001b[1;32m      3\u001b[0m     \u001b[38;5;28mprint\u001b[39m(\u001b[38;5;124m\"\u001b[39m\u001b[38;5;124mprocessing\u001b[39m\u001b[38;5;124m\"\u001b[39m, i)\n\u001b[0;32m----> 4\u001b[0m     \u001b[43mprocess_chunk\u001b[49m\u001b[43m(\u001b[49m\u001b[43mchunk\u001b[49m\u001b[43m,\u001b[49m\u001b[43m \u001b[49m\u001b[38;5;124;43m\"\u001b[39;49m\u001b[38;5;124;43mtrain\u001b[39;49m\u001b[38;5;124;43m\"\u001b[39;49m\u001b[43m)\u001b[49m\n",
            "Cell \u001b[0;32mIn[35], line 2\u001b[0m, in \u001b[0;36mprocess_chunk\u001b[0;34m(data, folder)\u001b[0m\n\u001b[1;32m      1\u001b[0m \u001b[38;5;28;01mdef\u001b[39;00m \u001b[38;5;21mprocess_chunk\u001b[39m(data, folder):\n\u001b[0;32m----> 2\u001b[0m     chunks \u001b[38;5;241m=\u001b[39m [(data_subarray, folder) \u001b[38;5;28;01mfor\u001b[39;00m data_subarray \u001b[38;5;129;01min\u001b[39;00m get_chunk(data, \u001b[38;5;241m40\u001b[39m)]\n\u001b[1;32m      3\u001b[0m     \u001b[38;5;28;01mwith\u001b[39;00m Pool(\u001b[38;5;241m4\u001b[39m) \u001b[38;5;28;01mas\u001b[39;00m p:\n\u001b[1;32m      4\u001b[0m         p\u001b[38;5;241m.\u001b[39mmap(f, chunks)\n",
            "Cell \u001b[0;32mIn[35], line 2\u001b[0m, in \u001b[0;36m<listcomp>\u001b[0;34m(.0)\u001b[0m\n\u001b[1;32m      1\u001b[0m \u001b[38;5;28;01mdef\u001b[39;00m \u001b[38;5;21mprocess_chunk\u001b[39m(data, folder):\n\u001b[0;32m----> 2\u001b[0m     chunks \u001b[38;5;241m=\u001b[39m [(data_subarray, folder) \u001b[38;5;28;01mfor\u001b[39;00m data_subarray \u001b[38;5;129;01min\u001b[39;00m get_chunk(data, \u001b[38;5;241m40\u001b[39m)]\n\u001b[1;32m      3\u001b[0m     \u001b[38;5;28;01mwith\u001b[39;00m Pool(\u001b[38;5;241m4\u001b[39m) \u001b[38;5;28;01mas\u001b[39;00m p:\n\u001b[1;32m      4\u001b[0m         p\u001b[38;5;241m.\u001b[39mmap(f, chunks)\n",
            "Cell \u001b[0;32mIn[32], line 5\u001b[0m, in \u001b[0;36mget_chunk\u001b[0;34m(data, num_chunks)\u001b[0m\n\u001b[1;32m      3\u001b[0m chunk_size \u001b[38;5;241m=\u001b[39m \u001b[38;5;28mlen\u001b[39m(audio) \u001b[38;5;241m/\u001b[39m\u001b[38;5;241m/\u001b[39m num_chunks\n\u001b[1;32m      4\u001b[0m chunks \u001b[38;5;241m=\u001b[39m []\n\u001b[0;32m----> 5\u001b[0m \u001b[38;5;28;01mfor\u001b[39;00m i \u001b[38;5;129;01min\u001b[39;00m \u001b[38;5;28;43mrange\u001b[39;49m\u001b[43m(\u001b[49m\u001b[38;5;241;43m0\u001b[39;49m\u001b[43m,\u001b[49m\u001b[43m \u001b[49m\u001b[38;5;28;43mlen\u001b[39;49m\u001b[43m(\u001b[49m\u001b[43maudio\u001b[49m\u001b[43m)\u001b[49m\u001b[43m,\u001b[49m\u001b[43m \u001b[49m\u001b[43mchunk_size\u001b[49m\u001b[43m)\u001b[49m:\n\u001b[1;32m      6\u001b[0m     chunk \u001b[38;5;241m=\u001b[39m (audio[i : i \u001b[38;5;241m+\u001b[39m chunk_size], labels[i : i \u001b[38;5;241m+\u001b[39m chunk_size])\n\u001b[1;32m      7\u001b[0m     \u001b[38;5;28;01myield\u001b[39;00m chunk\n",
            "\u001b[0;31mValueError\u001b[0m: range() arg 3 must not be zero"
          ],
          "ename": "ValueError",
          "evalue": "range() arg 3 must not be zero",
          "output_type": "error"
        }
      ]
    },
    {
      "cell_type": "code",
      "source": [
        "test_audios.shape, val_audios.shape"
      ],
      "metadata": {
        "execution": {
          "iopub.status.busy": "2024-05-14T17:41:53.303101Z",
          "iopub.execute_input": "2024-05-14T17:41:53.303618Z",
          "iopub.status.idle": "2024-05-14T17:41:53.31657Z",
          "shell.execute_reply.started": "2024-05-14T17:41:53.303579Z",
          "shell.execute_reply": "2024-05-14T17:41:53.314318Z"
        },
        "trusted": true,
        "id": "r4gyCWdyVWaX",
        "outputId": "b201dcb4-caa5-4f74-b983-9f094f4426d3"
      },
      "execution_count": null,
      "outputs": [
        {
          "execution_count": 50,
          "output_type": "execute_result",
          "data": {
            "text/plain": "((4555,), (804,))"
          },
          "metadata": {}
        }
      ]
    },
    {
      "cell_type": "code",
      "source": [
        "outer_chunks = 20\n",
        "for i, chunk in enumerate(get_chunk((test_audios, test_labels), outer_chunks)):\n",
        "    print(\"processing\", i)\n",
        "    process_chunk(chunk, \"test\")"
      ],
      "metadata": {
        "execution": {
          "iopub.status.busy": "2024-05-14T17:46:15.08864Z",
          "iopub.execute_input": "2024-05-14T17:46:15.089068Z",
          "iopub.status.idle": "2024-05-14T17:58:28.201367Z",
          "shell.execute_reply.started": "2024-05-14T17:46:15.089034Z",
          "shell.execute_reply": "2024-05-14T17:58:28.199795Z"
        },
        "trusted": true,
        "id": "xaAAYmDuVWaX",
        "outputId": "b8ec514d-db48-4314-e574-848c07067b56"
      },
      "execution_count": null,
      "outputs": [
        {
          "name": "stdout",
          "text": "processing 0\n",
          "output_type": "stream"
        }
      ]
    },
    {
      "cell_type": "code",
      "source": [
        "outer_chunks = 20\n",
        "for i, chunk in enumerate(get_chunk((val_audios, val_labels), outer_chunks)):\n",
        "    print(\"processing\", i)\n",
        "    process_chunk(chunk, \"val\")"
      ],
      "metadata": {
        "execution": {
          "iopub.status.busy": "2024-05-14T17:43:49.120515Z",
          "iopub.execute_input": "2024-05-14T17:43:49.122134Z",
          "iopub.status.idle": "2024-05-14T17:46:15.085073Z",
          "shell.execute_reply.started": "2024-05-14T17:43:49.122069Z",
          "shell.execute_reply": "2024-05-14T17:46:15.083002Z"
        },
        "trusted": true,
        "id": "waxvGyhuVWaX",
        "outputId": "a994ae73-3b98-421c-c26b-02225ae89988"
      },
      "execution_count": null,
      "outputs": [
        {
          "name": "stdout",
          "text": "processing 0\n",
          "output_type": "stream"
        },
        {
          "name": "stderr",
          "text": "/opt/conda/lib/python3.10/multiprocessing/popen_fork.py:66: RuntimeWarning: os.fork() was called. os.fork() is incompatible with multithreaded code, and JAX is multithreaded, so this will likely lead to a deadlock.\n  self.pid = os.fork()\n",
          "output_type": "stream"
        }
      ]
    },
    {
      "cell_type": "code",
      "source": [
        "!find /kaggle/working -mindepth 1 -type f -name \"*.tif\" -printf x | wc -c"
      ],
      "metadata": {
        "execution": {
          "iopub.status.busy": "2024-05-14T18:38:14.802748Z",
          "iopub.execute_input": "2024-05-14T18:38:14.804831Z",
          "iopub.status.idle": "2024-05-14T18:38:16.062754Z",
          "shell.execute_reply.started": "2024-05-14T18:38:14.804774Z",
          "shell.execute_reply": "2024-05-14T18:38:16.061103Z"
        },
        "trusted": true,
        "id": "20kWWBk-VWaX",
        "outputId": "68d6aecb-8e3e-479b-95e8-2d78da80aee0"
      },
      "execution_count": null,
      "outputs": [
        {
          "name": "stdout",
          "text": "17203\n",
          "output_type": "stream"
        }
      ]
    },
    {
      "cell_type": "code",
      "source": [
        "!zip -r dataset.zip /kaggle/working/val /kaggle/working/train /kaggle/working/test"
      ],
      "metadata": {
        "trusted": true,
        "id": "-vKjyU2sVWaX"
      },
      "execution_count": null,
      "outputs": []
    },
    {
      "cell_type": "code",
      "source": [],
      "metadata": {
        "execution": {
          "iopub.status.busy": "2024-05-14T18:44:16.183951Z",
          "iopub.execute_input": "2024-05-14T18:44:16.185557Z",
          "iopub.status.idle": "2024-05-14T18:45:31.208248Z",
          "shell.execute_reply.started": "2024-05-14T18:44:16.185503Z",
          "shell.execute_reply": "2024-05-14T18:45:31.206752Z"
        },
        "trusted": true,
        "id": "rIkEFDbpVWaX",
        "outputId": "dc43c0bc-c3af-4c10-d653-797255918ef8"
      },
      "execution_count": null,
      "outputs": [
        {
          "name": "stdout",
          "text": "^C\n",
          "output_type": "stream"
        }
      ]
    },
    {
      "cell_type": "code",
      "source": [],
      "metadata": {
        "id": "1Owenu6mVWaY"
      },
      "execution_count": null,
      "outputs": []
    }
  ]
}